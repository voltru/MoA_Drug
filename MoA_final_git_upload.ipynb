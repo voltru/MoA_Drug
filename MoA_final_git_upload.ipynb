{
  "nbformat": 4,
  "nbformat_minor": 0,
  "metadata": {
    "colab": {
      "name": "MoA_final_git_upload",
      "provenance": []
    },
    "kernelspec": {
      "name": "python3",
      "display_name": "Python 3"
    },
    "accelerator": "GPU"
  },
  "cells": [
    {
      "cell_type": "code",
      "metadata": {
        "colab": {
          "base_uri": "https://localhost:8080/"
        },
        "id": "fAJjus79qXhn",
        "outputId": "fbf3b462-5959-4c1d-fc22-7ccf664479cc"
      },
      "source": [
        "#from collections import Counter\n",
        "import pandas as pd\n",
        "import numpy as np\n",
        "#from imblearn.over_sampling import SMOTE\n",
        "#from imblearn.under_sampling import RandomUnderSampler\n",
        "from sklearn.preprocessing import LabelEncoder\n",
        "from sklearn.model_selection import StratifiedShuffleSplit\n",
        "import os\n",
        "import cv2\n",
        "from PIL import Image\n",
        "\n",
        "import tensorflow as tf\n",
        "from tensorflow import keras\n",
        "from tensorflow.keras import models\n",
        "from tensorflow.keras import layers\n",
        "#%tensorflow_version  2.1.0\n",
        "print(tf.__version__)\n",
        "from keras.applications.mobilenet import MobileNet\n",
        "from keras.preprocessing import image\n",
        "from keras.applications.mobilenet import preprocess_input,decode_predictions\n",
        "from keras.models import Sequential\n",
        "\n",
        "!pip install -q keras-tuner\n",
        "import kerastuner as kt"
      ],
      "execution_count": null,
      "outputs": [
        {
          "output_type": "stream",
          "text": [
            "2.3.0\n",
            "\u001b[K     |████████████████████████████████| 71kB 7.9MB/s \n",
            "\u001b[?25h  Building wheel for keras-tuner (setup.py) ... \u001b[?25l\u001b[?25hdone\n",
            "  Building wheel for terminaltables (setup.py) ... \u001b[?25l\u001b[?25hdone\n"
          ],
          "name": "stdout"
        }
      ]
    },
    {
      "cell_type": "code",
      "metadata": {
        "id": "_IEofjYhhU69"
      },
      "source": [
        ""
      ],
      "execution_count": null,
      "outputs": []
    },
    {
      "cell_type": "code",
      "metadata": {
        "colab": {
          "base_uri": "https://localhost:8080/"
        },
        "id": "CeOrPhm8qcNA",
        "outputId": "41185880-29de-431a-9c7f-130d8274bd81"
      },
      "source": [
        "inpf1 = np.load(\"/content/drive/MyDrive/drug_data/files/F1.npy\")\n",
        "inpf1.shape"
      ],
      "execution_count": null,
      "outputs": [
        {
          "output_type": "execute_result",
          "data": {
            "text/plain": [
              "(24324, 876)"
            ]
          },
          "metadata": {
            "tags": []
          },
          "execution_count": 2
        }
      ]
    },
    {
      "cell_type": "code",
      "metadata": {
        "colab": {
          "base_uri": "https://localhost:8080/"
        },
        "id": "0Q5teV9IqiZ6",
        "outputId": "eaa82ac9-6e29-470a-f019-771c9882aa41"
      },
      "source": [
        "inpf1 = inpf1.reshape(24324,1,876)\n",
        "inpf1.shape"
      ],
      "execution_count": null,
      "outputs": [
        {
          "output_type": "execute_result",
          "data": {
            "text/plain": [
              "(24324, 1, 876)"
            ]
          },
          "metadata": {
            "tags": []
          },
          "execution_count": 3
        }
      ]
    },
    {
      "cell_type": "code",
      "metadata": {
        "id": "4y_qNCOFqvBS"
      },
      "source": [
        "inpf2 = np.load(\"/content/drive/MyDrive/drug_data/files/F2.npy\")"
      ],
      "execution_count": null,
      "outputs": []
    },
    {
      "cell_type": "code",
      "metadata": {
        "colab": {
          "base_uri": "https://localhost:8080/"
        },
        "id": "jM0s5yC4qyPG",
        "outputId": "109ff1d4-abe9-4b5e-9d33-50dda5b044fa"
      },
      "source": [
        "inpf2 = inpf2.reshape(24324,1,876)\n",
        "inpf2.shape"
      ],
      "execution_count": null,
      "outputs": [
        {
          "output_type": "execute_result",
          "data": {
            "text/plain": [
              "(24324, 1, 876)"
            ]
          },
          "metadata": {
            "tags": []
          },
          "execution_count": 5
        }
      ]
    },
    {
      "cell_type": "code",
      "metadata": {
        "id": "7snLRDShq1UW"
      },
      "source": [
        "altered = np.load(\"/content/drive/MyDrive/drug_data/files/altered_data.npy\",allow_pickle=True)"
      ],
      "execution_count": null,
      "outputs": []
    },
    {
      "cell_type": "code",
      "metadata": {
        "colab": {
          "base_uri": "https://localhost:8080/"
        },
        "id": "GoSz4tvoq49o",
        "outputId": "7c2f3c6b-bf0b-4138-a320-3df04f75b121"
      },
      "source": [
        "altered = altered.reshape(24324,1,876)\n",
        "altered.shape"
      ],
      "execution_count": null,
      "outputs": [
        {
          "output_type": "execute_result",
          "data": {
            "text/plain": [
              "(24324, 1, 876)"
            ]
          },
          "metadata": {
            "tags": []
          },
          "execution_count": 7
        }
      ]
    },
    {
      "cell_type": "code",
      "metadata": {
        "id": "PSzYqbXNrEXe"
      },
      "source": [
        "sqnp = np.load(\"/content/drive/MyDrive/drug_data/files/sqnp.npy\")"
      ],
      "execution_count": null,
      "outputs": []
    },
    {
      "cell_type": "code",
      "metadata": {
        "colab": {
          "base_uri": "https://localhost:8080/"
        },
        "id": "MDjPLmRarI6g",
        "outputId": "bd35a3ce-a40b-4c3b-f272-e052497427b4"
      },
      "source": [
        "sqnp = sqnp.reshape(24324,1,876)\n",
        "sqnp.shape"
      ],
      "execution_count": null,
      "outputs": [
        {
          "output_type": "execute_result",
          "data": {
            "text/plain": [
              "(24324, 1, 876)"
            ]
          },
          "metadata": {
            "tags": []
          },
          "execution_count": 9
        }
      ]
    },
    {
      "cell_type": "code",
      "metadata": {
        "colab": {
          "base_uri": "https://localhost:8080/"
        },
        "id": "8RjPDe5Jq7x5",
        "outputId": "e8996e5f-8cc8-4cee-ab0c-3b85ba6d7c8a"
      },
      "source": [
        "target = np.load(\"/content/drive/MyDrive/drug_data/files/altered_targets.npy\",allow_pickle=True)\n",
        "target.shape"
      ],
      "execution_count": null,
      "outputs": [
        {
          "output_type": "execute_result",
          "data": {
            "text/plain": [
              "(24324, 206)"
            ]
          },
          "metadata": {
            "tags": []
          },
          "execution_count": 10
        }
      ]
    },
    {
      "cell_type": "code",
      "metadata": {
        "id": "Ezkz53v-rADT"
      },
      "source": [
        "inpf1=tf.keras.utils.normalize(inpf1, axis=0, order=2)\n",
        "inpf2=tf.keras.utils.normalize(inpf2, axis=0, order=2)\n",
        "sqnp = tf.keras.utils.normalize(sqnp,axis=0,order=2)"
      ],
      "execution_count": null,
      "outputs": []
    },
    {
      "cell_type": "code",
      "metadata": {
        "id": "vGE-FqLOrbvs"
      },
      "source": [
        "tf.keras.backend.set_floatx('float64')"
      ],
      "execution_count": null,
      "outputs": []
    },
    {
      "cell_type": "code",
      "metadata": {
        "id": "KJiTzty0s8M9"
      },
      "source": [
        "from functools import partial\n",
        "reg_dense = partial(\n",
        "    tf.keras.layers.Dense,\n",
        "    activation = 'relu',\n",
        "    kernel_initializer='he_normal',\n",
        "    kernel_regularizer=keras.regularizers.l2(0.01)) "
      ],
      "execution_count": null,
      "outputs": []
    },
    {
      "cell_type": "code",
      "metadata": {
        "id": "RR_R_1AEsAki"
      },
      "source": [
        "inputconv = tf.keras.Input(shape=(1,876))\n",
        "inputconv1 = tf.keras.Input(shape=(1,876))\n",
        "inputconv2 = tf.keras.Input(shape=(1,876))\n",
        "\n",
        "x = tf.keras.layers.Reshape((12,73,1))(inputconv)\n",
        "x1 = tf.keras.layers.Reshape((12,73,1))(inputconv1)\n",
        "x2 = tf.keras.layers.Reshape((12,73,1))(inputconv2)\n",
        "\n",
        "\n",
        "x = tf.keras.layers.Conv2D(100,2,\n",
        "                           strides=(1,1),\n",
        "                           padding='valid',\n",
        "                           kernel_initializer='he_normal',\n",
        "                           kernel_regularizer=tf.keras.regularizers.l1_l2(),\n",
        "                           bias_constraint=tf.keras.constraints.non_neg())(x)\n",
        "x = tf.keras.layers.Conv2D(64,2,\n",
        "                           strides=(1,1),\n",
        "                           padding='valid',\n",
        "                           kernel_initializer='he_normal',\n",
        "                           kernel_regularizer=tf.keras.regularizers.l1_l2(),\n",
        "                           bias_constraint=tf.keras.constraints.non_neg())(x)                         \n",
        "#x = tf.keras.layers.MaxPooling2D()(x)\n",
        "x = tf.keras.layers.GlobalAveragePooling2D()(x)\n",
        "#x = reg_dense(500)(x)\n",
        "\n",
        "\n",
        "#x1 = tf.keras.layers.Reshape((12,73,1))(inputconv1)\n",
        "x1 = tf.keras.layers.Conv2D(100,2,\n",
        "                           strides=(1,1),\n",
        "                           padding='valid',\n",
        "                           kernel_initializer='he_normal',\n",
        "                           kernel_regularizer=tf.keras.regularizers.l1_l2(),\n",
        "                           bias_constraint=tf.keras.constraints.non_neg())(x1)\n",
        "x1 = tf.keras.layers.Conv2D(64,2,\n",
        "                           strides=(1,1),\n",
        "                           padding='valid',\n",
        "                           kernel_initializer='he_normal',\n",
        "                           kernel_regularizer=tf.keras.regularizers.l1_l2(),\n",
        "                           bias_constraint=tf.keras.constraints.non_neg())(x1)\n",
        "#x1 = tf.keras.layers.MaxPooling2D()(x1)\n",
        "x1 = tf.keras.layers.GlobalAveragePooling2D()(x1)\n",
        "#x1 = reg_dense(500)(x1)\n",
        "\n",
        "x2 = tf.keras.layers.Conv2D(100,2,\n",
        "                           strides=(1,1),\n",
        "                           padding='valid',\n",
        "                           kernel_initializer='he_normal',\n",
        "                           kernel_regularizer=tf.keras.regularizers.l1_l2(),\n",
        "                           bias_constraint=tf.keras.constraints.non_neg())(x2)\n",
        "x2 = tf.keras.layers.Conv2D(64,2,\n",
        "                           strides=(1,1),\n",
        "                           padding='valid',\n",
        "                           kernel_initializer='he_normal',\n",
        "                           kernel_regularizer=tf.keras.regularizers.l1_l2(),\n",
        "                           bias_constraint=tf.keras.constraints.non_neg())(x2)\n",
        "#x2 = tf.keras.layers.MaxPooling2D()(x2)\n",
        "x2 = tf.keras.layers.GlobalAveragePooling2D()(x2)\n",
        "\n",
        "\n",
        "conv = tf.keras.layers.concatenate([x,x1])\n",
        "conv = tf.keras.layers.Reshape((8,16,1))(conv)\n",
        "conv = tf.keras.layers.Conv2D(64,(1,3),strides=1,\n",
        "                                kernel_initializer=tf.keras.initializers.he_normal(),\n",
        "                                kernel_regularizer=tf.keras.regularizers.l1_l2())(conv)\n",
        "conv=tf.keras.layers.GlobalAveragePooling2D()(conv)\n",
        "\n",
        "conv1 = tf.keras.layers.concatenate([x2,x1])\n",
        "conv1 = tf.keras.layers.Reshape((16,8,1))(conv1)\n",
        "conv1 = tf.keras.layers.Conv2D(64,(1,3),strides=1,\n",
        "                                kernel_initializer=tf.keras.initializers.he_normal(),\n",
        "                                kernel_regularizer=tf.keras.regularizers.l1_l2())(conv1)\n",
        "conv1=tf.keras.layers.GlobalAveragePooling2D()(conv1)\n",
        "\n",
        "conv2 = tf.keras.layers.concatenate([x,x2])\n",
        "conv2 = tf.keras.layers.Reshape((32,4,1))(conv2)\n",
        "conv2 = tf.keras.layers.Conv2D(64,(1,3),strides=1,\n",
        "                                kernel_initializer=tf.keras.initializers.he_normal(),\n",
        "                                kernel_regularizer=tf.keras.regularizers.l1_l2())(conv2)\n",
        "conv2=tf.keras.layers.GlobalAveragePooling2D()(conv2)\n",
        "#conv = tf.keras.layers.Conv2D(900,3,strides=(1,2),\n",
        " #                              kernel_initializer=tf.keras.initializers.he_normal(),\n",
        "  #                              kernel_regularizer=tf.keras.regularizers.l1_l2())(conv)\n",
        "#conv=tf.keras.layers.GlobalAveragePooling2D()(conv)\n",
        "conc = tf.keras.layers.concatenate([conv,conv1,conv2])\n",
        "g = reg_dense(1650)(conc)\n",
        "g = reg_dense(1100)(g)\n",
        "g = reg_dense(800)(g)\n",
        "g = reg_dense(500)(g)\n",
        "#g = reg_dense(290)(g)\n",
        "\n",
        "output = tf.keras.layers.Dense(206,activation='softmax',name='main')(g)\n",
        "#o1 = tf.keras.layers.Dense(206,activation='softmax',name='x')(x)\n",
        "#o2 = tf.keras.layers.Dense(206,activation='softmax',name='x1')(x1)\n",
        "#o3 = tf.keras.layers.Dense(206,activation='softmax',name='x2')(x2)\n",
        "#o4 = tf.keras.layers.Dense(206,activation='softmax',name='convd')(conc)\n",
        "\n",
        "\n",
        "model_conv = tf.keras.Model(inputs=[inputconv,inputconv1,inputconv2], outputs=[output])"
      ],
      "execution_count": null,
      "outputs": []
    },
    {
      "cell_type": "code",
      "metadata": {
        "colab": {
          "base_uri": "https://localhost:8080/"
        },
        "id": "bbYpKVwEs2s4",
        "outputId": "613e8228-fd91-47d3-c93c-173eabd15119"
      },
      "source": [
        "model_conv.summary()"
      ],
      "execution_count": null,
      "outputs": [
        {
          "output_type": "stream",
          "text": [
            "Model: \"functional_5\"\n",
            "__________________________________________________________________________________________________\n",
            "Layer (type)                    Output Shape         Param #     Connected to                     \n",
            "==================================================================================================\n",
            "input_7 (InputLayer)            [(None, 1, 876)]     0                                            \n",
            "__________________________________________________________________________________________________\n",
            "input_8 (InputLayer)            [(None, 1, 876)]     0                                            \n",
            "__________________________________________________________________________________________________\n",
            "input_9 (InputLayer)            [(None, 1, 876)]     0                                            \n",
            "__________________________________________________________________________________________________\n",
            "reshape_12 (Reshape)            (None, 12, 73, 1)    0           input_7[0][0]                    \n",
            "__________________________________________________________________________________________________\n",
            "reshape_13 (Reshape)            (None, 12, 73, 1)    0           input_8[0][0]                    \n",
            "__________________________________________________________________________________________________\n",
            "reshape_14 (Reshape)            (None, 12, 73, 1)    0           input_9[0][0]                    \n",
            "__________________________________________________________________________________________________\n",
            "conv2d_18 (Conv2D)              (None, 11, 72, 100)  500         reshape_12[0][0]                 \n",
            "__________________________________________________________________________________________________\n",
            "conv2d_20 (Conv2D)              (None, 11, 72, 100)  500         reshape_13[0][0]                 \n",
            "__________________________________________________________________________________________________\n",
            "conv2d_22 (Conv2D)              (None, 11, 72, 100)  500         reshape_14[0][0]                 \n",
            "__________________________________________________________________________________________________\n",
            "conv2d_19 (Conv2D)              (None, 10, 71, 64)   25664       conv2d_18[0][0]                  \n",
            "__________________________________________________________________________________________________\n",
            "conv2d_21 (Conv2D)              (None, 10, 71, 64)   25664       conv2d_20[0][0]                  \n",
            "__________________________________________________________________________________________________\n",
            "conv2d_23 (Conv2D)              (None, 10, 71, 64)   25664       conv2d_22[0][0]                  \n",
            "__________________________________________________________________________________________________\n",
            "global_average_pooling2d_12 (Gl (None, 64)           0           conv2d_19[0][0]                  \n",
            "__________________________________________________________________________________________________\n",
            "global_average_pooling2d_13 (Gl (None, 64)           0           conv2d_21[0][0]                  \n",
            "__________________________________________________________________________________________________\n",
            "global_average_pooling2d_14 (Gl (None, 64)           0           conv2d_23[0][0]                  \n",
            "__________________________________________________________________________________________________\n",
            "concatenate_8 (Concatenate)     (None, 128)          0           global_average_pooling2d_12[0][0]\n",
            "                                                                 global_average_pooling2d_13[0][0]\n",
            "__________________________________________________________________________________________________\n",
            "concatenate_9 (Concatenate)     (None, 128)          0           global_average_pooling2d_14[0][0]\n",
            "                                                                 global_average_pooling2d_13[0][0]\n",
            "__________________________________________________________________________________________________\n",
            "concatenate_10 (Concatenate)    (None, 128)          0           global_average_pooling2d_12[0][0]\n",
            "                                                                 global_average_pooling2d_14[0][0]\n",
            "__________________________________________________________________________________________________\n",
            "reshape_15 (Reshape)            (None, 8, 16, 1)     0           concatenate_8[0][0]              \n",
            "__________________________________________________________________________________________________\n",
            "reshape_16 (Reshape)            (None, 16, 8, 1)     0           concatenate_9[0][0]              \n",
            "__________________________________________________________________________________________________\n",
            "reshape_17 (Reshape)            (None, 32, 4, 1)     0           concatenate_10[0][0]             \n",
            "__________________________________________________________________________________________________\n",
            "conv2d_24 (Conv2D)              (None, 8, 14, 64)    256         reshape_15[0][0]                 \n",
            "__________________________________________________________________________________________________\n",
            "conv2d_25 (Conv2D)              (None, 16, 6, 64)    256         reshape_16[0][0]                 \n",
            "__________________________________________________________________________________________________\n",
            "conv2d_26 (Conv2D)              (None, 32, 2, 64)    256         reshape_17[0][0]                 \n",
            "__________________________________________________________________________________________________\n",
            "global_average_pooling2d_15 (Gl (None, 64)           0           conv2d_24[0][0]                  \n",
            "__________________________________________________________________________________________________\n",
            "global_average_pooling2d_16 (Gl (None, 64)           0           conv2d_25[0][0]                  \n",
            "__________________________________________________________________________________________________\n",
            "global_average_pooling2d_17 (Gl (None, 64)           0           conv2d_26[0][0]                  \n",
            "__________________________________________________________________________________________________\n",
            "concatenate_11 (Concatenate)    (None, 192)          0           global_average_pooling2d_15[0][0]\n",
            "                                                                 global_average_pooling2d_16[0][0]\n",
            "                                                                 global_average_pooling2d_17[0][0]\n",
            "__________________________________________________________________________________________________\n",
            "dense_8 (Dense)                 (None, 1650)         318450      concatenate_11[0][0]             \n",
            "__________________________________________________________________________________________________\n",
            "dense_9 (Dense)                 (None, 1100)         1816100     dense_8[0][0]                    \n",
            "__________________________________________________________________________________________________\n",
            "dense_10 (Dense)                (None, 800)          880800      dense_9[0][0]                    \n",
            "__________________________________________________________________________________________________\n",
            "dense_11 (Dense)                (None, 500)          400500      dense_10[0][0]                   \n",
            "__________________________________________________________________________________________________\n",
            "main (Dense)                    (None, 206)          103206      dense_11[0][0]                   \n",
            "==================================================================================================\n",
            "Total params: 3,598,316\n",
            "Trainable params: 3,598,316\n",
            "Non-trainable params: 0\n",
            "__________________________________________________________________________________________________\n"
          ],
          "name": "stdout"
        }
      ]
    },
    {
      "cell_type": "code",
      "metadata": {
        "id": "f3vbRdpBtCfY"
      },
      "source": [
        "import keras.backend as K\n",
        "\n",
        "p_min = 0.0001\n",
        "p_max = 0.999\n",
        "def logloss(y_true, y_pred):\n",
        "    #y_pred = tf.clip_by_value(y_pred,p_min,p_max)\n",
        "    return -K.mean(y_true*K.log(y_pred) + (1-y_true)*K.log(1-y_pred))"
      ],
      "execution_count": null,
      "outputs": []
    },
    {
      "cell_type": "code",
      "metadata": {
        "id": "gjZnDwzptIPe"
      },
      "source": [
        "model_conv.compile(\n",
        "    optimizer=tf.keras.optimizers.SGD(learning_rate=0.18,momentum=0.90),\n",
        "    loss=[\n",
        "          tf.keras.losses.MeanSquaredLogarithmicError(),\n",
        "          #tf.keras.losses.MeanSquaredLogarithmicError(),\n",
        "          #tf.keras.losses.MeanSquaredLogarithmicError(),\n",
        "          #tf.keras.losses.MeanSquaredLogarithmicError(),\n",
        "          #tf.keras.losses.MeanSquaredLogarithmicError(),\n",
        "          #tf.keras.losses.MeanSquaredLogarithmicError()\n",
        "          ],\n",
        "    metrics = [\n",
        "               #tf.keras.metrics.CategoricalCrossentropy(name='1cce'),\n",
        "               #tf.keras.metrics.CategoricalCrossentropy(name='2cce'),\n",
        "               #tf.keras.metrics.CategoricalCrossentropy(name='3cce'),\n",
        "               logloss,\n",
        "               tf.keras.metrics.Precision(),\n",
        "               tf.keras.metrics.Recall(),\n",
        "               tf.keras.metrics.CategoricalCrossentropy(label_smoothing=0.2)],\n",
        "    #loss_weights=[0.10,0.8,0.03,0.03,0.03,0.05]\n",
        ")"
      ],
      "execution_count": null,
      "outputs": []
    },
    {
      "cell_type": "code",
      "metadata": {
        "colab": {
          "base_uri": "https://localhost:8080/",
          "height": 429
        },
        "id": "-fMjKwrAtpVu",
        "outputId": "2c5cf110-db04-4798-f231-3ba8ef3bca98"
      },
      "source": [
        "history = model_conv.fit(x=[inpf1,inpf2,sqnp],y=target,epochs=40,batch_size=32)"
      ],
      "execution_count": null,
      "outputs": [
        {
          "output_type": "stream",
          "text": [
            "Epoch 1/40\n",
            "  2/761 [..............................] - ETA: 34s - loss: 0.7458 - logloss: 0.0198 - precision_2: 0.0000e+00 - recall_2: 0.0000e+00 - categorical_crossentropy: 3.5293WARNING:tensorflow:Callbacks method `on_train_batch_end` is slow compared to the batch time (batch time: 0.0322s vs `on_train_batch_end` time: 0.0582s). Check your callbacks.\n",
            "761/761 [==============================] - 64s 84ms/step - loss: 0.7461 - logloss: 0.0234 - precision_2: 0.0000e+00 - recall_2: 0.0000e+00 - categorical_crossentropy: 4.1175\n",
            "Epoch 2/40\n",
            "194/761 [======>.......................] - ETA: 46s - loss: 0.7461 - logloss: 0.0233 - precision_2: 0.0000e+00 - recall_2: 0.0000e+00 - categorical_crossentropy: 4.1065"
          ],
          "name": "stdout"
        },
        {
          "output_type": "error",
          "ename": "KeyboardInterrupt",
          "evalue": "ignored",
          "traceback": [
            "\u001b[0;31m---------------------------------------------------------------------------\u001b[0m",
            "\u001b[0;31mKeyboardInterrupt\u001b[0m                         Traceback (most recent call last)",
            "\u001b[0;32m<ipython-input-39-392fca226515>\u001b[0m in \u001b[0;36m<module>\u001b[0;34m()\u001b[0m\n\u001b[0;32m----> 1\u001b[0;31m \u001b[0mhistory\u001b[0m \u001b[0;34m=\u001b[0m \u001b[0mmodel_conv\u001b[0m\u001b[0;34m.\u001b[0m\u001b[0mfit\u001b[0m\u001b[0;34m(\u001b[0m\u001b[0mx\u001b[0m\u001b[0;34m=\u001b[0m\u001b[0;34m[\u001b[0m\u001b[0msqnp\u001b[0m\u001b[0;34m,\u001b[0m\u001b[0msqnp\u001b[0m\u001b[0;34m,\u001b[0m\u001b[0msqnp\u001b[0m\u001b[0;34m]\u001b[0m\u001b[0;34m,\u001b[0m\u001b[0my\u001b[0m\u001b[0;34m=\u001b[0m\u001b[0mtarget\u001b[0m\u001b[0;34m,\u001b[0m\u001b[0mepochs\u001b[0m\u001b[0;34m=\u001b[0m\u001b[0;36m40\u001b[0m\u001b[0;34m,\u001b[0m\u001b[0mbatch_size\u001b[0m\u001b[0;34m=\u001b[0m\u001b[0;36m32\u001b[0m\u001b[0;34m)\u001b[0m\u001b[0;34m\u001b[0m\u001b[0;34m\u001b[0m\u001b[0m\n\u001b[0m",
            "\u001b[0;32m/usr/local/lib/python3.6/dist-packages/tensorflow/python/keras/engine/training.py\u001b[0m in \u001b[0;36m_method_wrapper\u001b[0;34m(self, *args, **kwargs)\u001b[0m\n\u001b[1;32m    106\u001b[0m   \u001b[0;32mdef\u001b[0m \u001b[0m_method_wrapper\u001b[0m\u001b[0;34m(\u001b[0m\u001b[0mself\u001b[0m\u001b[0;34m,\u001b[0m \u001b[0;34m*\u001b[0m\u001b[0margs\u001b[0m\u001b[0;34m,\u001b[0m \u001b[0;34m**\u001b[0m\u001b[0mkwargs\u001b[0m\u001b[0;34m)\u001b[0m\u001b[0;34m:\u001b[0m\u001b[0;34m\u001b[0m\u001b[0;34m\u001b[0m\u001b[0m\n\u001b[1;32m    107\u001b[0m     \u001b[0;32mif\u001b[0m \u001b[0;32mnot\u001b[0m \u001b[0mself\u001b[0m\u001b[0;34m.\u001b[0m\u001b[0m_in_multi_worker_mode\u001b[0m\u001b[0;34m(\u001b[0m\u001b[0;34m)\u001b[0m\u001b[0;34m:\u001b[0m  \u001b[0;31m# pylint: disable=protected-access\u001b[0m\u001b[0;34m\u001b[0m\u001b[0;34m\u001b[0m\u001b[0m\n\u001b[0;32m--> 108\u001b[0;31m       \u001b[0;32mreturn\u001b[0m \u001b[0mmethod\u001b[0m\u001b[0;34m(\u001b[0m\u001b[0mself\u001b[0m\u001b[0;34m,\u001b[0m \u001b[0;34m*\u001b[0m\u001b[0margs\u001b[0m\u001b[0;34m,\u001b[0m \u001b[0;34m**\u001b[0m\u001b[0mkwargs\u001b[0m\u001b[0;34m)\u001b[0m\u001b[0;34m\u001b[0m\u001b[0;34m\u001b[0m\u001b[0m\n\u001b[0m\u001b[1;32m    109\u001b[0m \u001b[0;34m\u001b[0m\u001b[0m\n\u001b[1;32m    110\u001b[0m     \u001b[0;31m# Running inside `run_distribute_coordinator` already.\u001b[0m\u001b[0;34m\u001b[0m\u001b[0;34m\u001b[0m\u001b[0;34m\u001b[0m\u001b[0m\n",
            "\u001b[0;32m/usr/local/lib/python3.6/dist-packages/tensorflow/python/keras/engine/training.py\u001b[0m in \u001b[0;36mfit\u001b[0;34m(self, x, y, batch_size, epochs, verbose, callbacks, validation_split, validation_data, shuffle, class_weight, sample_weight, initial_epoch, steps_per_epoch, validation_steps, validation_batch_size, validation_freq, max_queue_size, workers, use_multiprocessing)\u001b[0m\n\u001b[1;32m   1096\u001b[0m                 batch_size=batch_size):\n\u001b[1;32m   1097\u001b[0m               \u001b[0mcallbacks\u001b[0m\u001b[0;34m.\u001b[0m\u001b[0mon_train_batch_begin\u001b[0m\u001b[0;34m(\u001b[0m\u001b[0mstep\u001b[0m\u001b[0;34m)\u001b[0m\u001b[0;34m\u001b[0m\u001b[0;34m\u001b[0m\u001b[0m\n\u001b[0;32m-> 1098\u001b[0;31m               \u001b[0mtmp_logs\u001b[0m \u001b[0;34m=\u001b[0m \u001b[0mtrain_function\u001b[0m\u001b[0;34m(\u001b[0m\u001b[0miterator\u001b[0m\u001b[0;34m)\u001b[0m\u001b[0;34m\u001b[0m\u001b[0;34m\u001b[0m\u001b[0m\n\u001b[0m\u001b[1;32m   1099\u001b[0m               \u001b[0;32mif\u001b[0m \u001b[0mdata_handler\u001b[0m\u001b[0;34m.\u001b[0m\u001b[0mshould_sync\u001b[0m\u001b[0;34m:\u001b[0m\u001b[0;34m\u001b[0m\u001b[0;34m\u001b[0m\u001b[0m\n\u001b[1;32m   1100\u001b[0m                 \u001b[0mcontext\u001b[0m\u001b[0;34m.\u001b[0m\u001b[0masync_wait\u001b[0m\u001b[0;34m(\u001b[0m\u001b[0;34m)\u001b[0m\u001b[0;34m\u001b[0m\u001b[0;34m\u001b[0m\u001b[0m\n",
            "\u001b[0;32m/usr/local/lib/python3.6/dist-packages/tensorflow/python/eager/def_function.py\u001b[0m in \u001b[0;36m__call__\u001b[0;34m(self, *args, **kwds)\u001b[0m\n\u001b[1;32m    778\u001b[0m       \u001b[0;32melse\u001b[0m\u001b[0;34m:\u001b[0m\u001b[0;34m\u001b[0m\u001b[0;34m\u001b[0m\u001b[0m\n\u001b[1;32m    779\u001b[0m         \u001b[0mcompiler\u001b[0m \u001b[0;34m=\u001b[0m \u001b[0;34m\"nonXla\"\u001b[0m\u001b[0;34m\u001b[0m\u001b[0;34m\u001b[0m\u001b[0m\n\u001b[0;32m--> 780\u001b[0;31m         \u001b[0mresult\u001b[0m \u001b[0;34m=\u001b[0m \u001b[0mself\u001b[0m\u001b[0;34m.\u001b[0m\u001b[0m_call\u001b[0m\u001b[0;34m(\u001b[0m\u001b[0;34m*\u001b[0m\u001b[0margs\u001b[0m\u001b[0;34m,\u001b[0m \u001b[0;34m**\u001b[0m\u001b[0mkwds\u001b[0m\u001b[0;34m)\u001b[0m\u001b[0;34m\u001b[0m\u001b[0;34m\u001b[0m\u001b[0m\n\u001b[0m\u001b[1;32m    781\u001b[0m \u001b[0;34m\u001b[0m\u001b[0m\n\u001b[1;32m    782\u001b[0m       \u001b[0mnew_tracing_count\u001b[0m \u001b[0;34m=\u001b[0m \u001b[0mself\u001b[0m\u001b[0;34m.\u001b[0m\u001b[0m_get_tracing_count\u001b[0m\u001b[0;34m(\u001b[0m\u001b[0;34m)\u001b[0m\u001b[0;34m\u001b[0m\u001b[0;34m\u001b[0m\u001b[0m\n",
            "\u001b[0;32m/usr/local/lib/python3.6/dist-packages/tensorflow/python/eager/def_function.py\u001b[0m in \u001b[0;36m_call\u001b[0;34m(self, *args, **kwds)\u001b[0m\n\u001b[1;32m    805\u001b[0m       \u001b[0;31m# In this case we have created variables on the first call, so we run the\u001b[0m\u001b[0;34m\u001b[0m\u001b[0;34m\u001b[0m\u001b[0;34m\u001b[0m\u001b[0m\n\u001b[1;32m    806\u001b[0m       \u001b[0;31m# defunned version which is guaranteed to never create variables.\u001b[0m\u001b[0;34m\u001b[0m\u001b[0;34m\u001b[0m\u001b[0;34m\u001b[0m\u001b[0m\n\u001b[0;32m--> 807\u001b[0;31m       \u001b[0;32mreturn\u001b[0m \u001b[0mself\u001b[0m\u001b[0;34m.\u001b[0m\u001b[0m_stateless_fn\u001b[0m\u001b[0;34m(\u001b[0m\u001b[0;34m*\u001b[0m\u001b[0margs\u001b[0m\u001b[0;34m,\u001b[0m \u001b[0;34m**\u001b[0m\u001b[0mkwds\u001b[0m\u001b[0;34m)\u001b[0m  \u001b[0;31m# pylint: disable=not-callable\u001b[0m\u001b[0;34m\u001b[0m\u001b[0;34m\u001b[0m\u001b[0m\n\u001b[0m\u001b[1;32m    808\u001b[0m     \u001b[0;32melif\u001b[0m \u001b[0mself\u001b[0m\u001b[0;34m.\u001b[0m\u001b[0m_stateful_fn\u001b[0m \u001b[0;32mis\u001b[0m \u001b[0;32mnot\u001b[0m \u001b[0;32mNone\u001b[0m\u001b[0;34m:\u001b[0m\u001b[0;34m\u001b[0m\u001b[0;34m\u001b[0m\u001b[0m\n\u001b[1;32m    809\u001b[0m       \u001b[0;31m# Release the lock early so that multiple threads can perform the call\u001b[0m\u001b[0;34m\u001b[0m\u001b[0;34m\u001b[0m\u001b[0;34m\u001b[0m\u001b[0m\n",
            "\u001b[0;32m/usr/local/lib/python3.6/dist-packages/tensorflow/python/eager/function.py\u001b[0m in \u001b[0;36m__call__\u001b[0;34m(self, *args, **kwargs)\u001b[0m\n\u001b[1;32m   2827\u001b[0m     \u001b[0;32mwith\u001b[0m \u001b[0mself\u001b[0m\u001b[0;34m.\u001b[0m\u001b[0m_lock\u001b[0m\u001b[0;34m:\u001b[0m\u001b[0;34m\u001b[0m\u001b[0;34m\u001b[0m\u001b[0m\n\u001b[1;32m   2828\u001b[0m       \u001b[0mgraph_function\u001b[0m\u001b[0;34m,\u001b[0m \u001b[0margs\u001b[0m\u001b[0;34m,\u001b[0m \u001b[0mkwargs\u001b[0m \u001b[0;34m=\u001b[0m \u001b[0mself\u001b[0m\u001b[0;34m.\u001b[0m\u001b[0m_maybe_define_function\u001b[0m\u001b[0;34m(\u001b[0m\u001b[0margs\u001b[0m\u001b[0;34m,\u001b[0m \u001b[0mkwargs\u001b[0m\u001b[0;34m)\u001b[0m\u001b[0;34m\u001b[0m\u001b[0;34m\u001b[0m\u001b[0m\n\u001b[0;32m-> 2829\u001b[0;31m     \u001b[0;32mreturn\u001b[0m \u001b[0mgraph_function\u001b[0m\u001b[0;34m.\u001b[0m\u001b[0m_filtered_call\u001b[0m\u001b[0;34m(\u001b[0m\u001b[0margs\u001b[0m\u001b[0;34m,\u001b[0m \u001b[0mkwargs\u001b[0m\u001b[0;34m)\u001b[0m  \u001b[0;31m# pylint: disable=protected-access\u001b[0m\u001b[0;34m\u001b[0m\u001b[0;34m\u001b[0m\u001b[0m\n\u001b[0m\u001b[1;32m   2830\u001b[0m \u001b[0;34m\u001b[0m\u001b[0m\n\u001b[1;32m   2831\u001b[0m   \u001b[0;34m@\u001b[0m\u001b[0mproperty\u001b[0m\u001b[0;34m\u001b[0m\u001b[0;34m\u001b[0m\u001b[0m\n",
            "\u001b[0;32m/usr/local/lib/python3.6/dist-packages/tensorflow/python/eager/function.py\u001b[0m in \u001b[0;36m_filtered_call\u001b[0;34m(self, args, kwargs, cancellation_manager)\u001b[0m\n\u001b[1;32m   1846\u001b[0m                            resource_variable_ops.BaseResourceVariable))],\n\u001b[1;32m   1847\u001b[0m         \u001b[0mcaptured_inputs\u001b[0m\u001b[0;34m=\u001b[0m\u001b[0mself\u001b[0m\u001b[0;34m.\u001b[0m\u001b[0mcaptured_inputs\u001b[0m\u001b[0;34m,\u001b[0m\u001b[0;34m\u001b[0m\u001b[0;34m\u001b[0m\u001b[0m\n\u001b[0;32m-> 1848\u001b[0;31m         cancellation_manager=cancellation_manager)\n\u001b[0m\u001b[1;32m   1849\u001b[0m \u001b[0;34m\u001b[0m\u001b[0m\n\u001b[1;32m   1850\u001b[0m   \u001b[0;32mdef\u001b[0m \u001b[0m_call_flat\u001b[0m\u001b[0;34m(\u001b[0m\u001b[0mself\u001b[0m\u001b[0;34m,\u001b[0m \u001b[0margs\u001b[0m\u001b[0;34m,\u001b[0m \u001b[0mcaptured_inputs\u001b[0m\u001b[0;34m,\u001b[0m \u001b[0mcancellation_manager\u001b[0m\u001b[0;34m=\u001b[0m\u001b[0;32mNone\u001b[0m\u001b[0;34m)\u001b[0m\u001b[0;34m:\u001b[0m\u001b[0;34m\u001b[0m\u001b[0;34m\u001b[0m\u001b[0m\n",
            "\u001b[0;32m/usr/local/lib/python3.6/dist-packages/tensorflow/python/eager/function.py\u001b[0m in \u001b[0;36m_call_flat\u001b[0;34m(self, args, captured_inputs, cancellation_manager)\u001b[0m\n\u001b[1;32m   1922\u001b[0m       \u001b[0;31m# No tape is watching; skip to running the function.\u001b[0m\u001b[0;34m\u001b[0m\u001b[0;34m\u001b[0m\u001b[0;34m\u001b[0m\u001b[0m\n\u001b[1;32m   1923\u001b[0m       return self._build_call_outputs(self._inference_function.call(\n\u001b[0;32m-> 1924\u001b[0;31m           ctx, args, cancellation_manager=cancellation_manager))\n\u001b[0m\u001b[1;32m   1925\u001b[0m     forward_backward = self._select_forward_and_backward_functions(\n\u001b[1;32m   1926\u001b[0m         \u001b[0margs\u001b[0m\u001b[0;34m,\u001b[0m\u001b[0;34m\u001b[0m\u001b[0;34m\u001b[0m\u001b[0m\n",
            "\u001b[0;32m/usr/local/lib/python3.6/dist-packages/tensorflow/python/eager/function.py\u001b[0m in \u001b[0;36mcall\u001b[0;34m(self, ctx, args, cancellation_manager)\u001b[0m\n\u001b[1;32m    548\u001b[0m               \u001b[0minputs\u001b[0m\u001b[0;34m=\u001b[0m\u001b[0margs\u001b[0m\u001b[0;34m,\u001b[0m\u001b[0;34m\u001b[0m\u001b[0;34m\u001b[0m\u001b[0m\n\u001b[1;32m    549\u001b[0m               \u001b[0mattrs\u001b[0m\u001b[0;34m=\u001b[0m\u001b[0mattrs\u001b[0m\u001b[0;34m,\u001b[0m\u001b[0;34m\u001b[0m\u001b[0;34m\u001b[0m\u001b[0m\n\u001b[0;32m--> 550\u001b[0;31m               ctx=ctx)\n\u001b[0m\u001b[1;32m    551\u001b[0m         \u001b[0;32melse\u001b[0m\u001b[0;34m:\u001b[0m\u001b[0;34m\u001b[0m\u001b[0;34m\u001b[0m\u001b[0m\n\u001b[1;32m    552\u001b[0m           outputs = execute.execute_with_cancellation(\n",
            "\u001b[0;32m/usr/local/lib/python3.6/dist-packages/tensorflow/python/eager/execute.py\u001b[0m in \u001b[0;36mquick_execute\u001b[0;34m(op_name, num_outputs, inputs, attrs, ctx, name)\u001b[0m\n\u001b[1;32m     58\u001b[0m     \u001b[0mctx\u001b[0m\u001b[0;34m.\u001b[0m\u001b[0mensure_initialized\u001b[0m\u001b[0;34m(\u001b[0m\u001b[0;34m)\u001b[0m\u001b[0;34m\u001b[0m\u001b[0;34m\u001b[0m\u001b[0m\n\u001b[1;32m     59\u001b[0m     tensors = pywrap_tfe.TFE_Py_Execute(ctx._handle, device_name, op_name,\n\u001b[0;32m---> 60\u001b[0;31m                                         inputs, attrs, num_outputs)\n\u001b[0m\u001b[1;32m     61\u001b[0m   \u001b[0;32mexcept\u001b[0m \u001b[0mcore\u001b[0m\u001b[0;34m.\u001b[0m\u001b[0m_NotOkStatusException\u001b[0m \u001b[0;32mas\u001b[0m \u001b[0me\u001b[0m\u001b[0;34m:\u001b[0m\u001b[0;34m\u001b[0m\u001b[0;34m\u001b[0m\u001b[0m\n\u001b[1;32m     62\u001b[0m     \u001b[0;32mif\u001b[0m \u001b[0mname\u001b[0m \u001b[0;32mis\u001b[0m \u001b[0;32mnot\u001b[0m \u001b[0;32mNone\u001b[0m\u001b[0;34m:\u001b[0m\u001b[0;34m\u001b[0m\u001b[0;34m\u001b[0m\u001b[0m\n",
            "\u001b[0;31mKeyboardInterrupt\u001b[0m: "
          ]
        }
      ]
    },
    {
      "cell_type": "code",
      "metadata": {
        "id": "rmFwd1NFt-kh"
      },
      "source": [
        ""
      ],
      "execution_count": null,
      "outputs": []
    }
  ]
}